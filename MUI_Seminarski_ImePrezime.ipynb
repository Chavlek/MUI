{
  "nbformat": 4,
  "nbformat_minor": 0,
  "metadata": {
    "colab": {
      "provenance": []
    },
    "kernelspec": {
      "name": "python3",
      "display_name": "Python 3"
    },
    "language_info": {
      "name": "python"
    }
  },
  "cells": [
    {
      "cell_type": "markdown",
      "source": [
        "# Metode umjetne inteligencije\n",
        "### Seminarski zadatak\n",
        "\n",
        "---\n",
        "---\n",
        "---\n",
        "\n",
        "\n",
        "####*Zapisnik sastanka tehnologa 29.5.2018. u 9:00*\n",
        "\n",
        "Šef proizvodne linije izvjestio je o problemima sa senzorima na transportnim cijevima:\n",
        "\n",
        "Senzor tlaka na izlazu cjevovoda u postrojenju se pokvario. Nalazi se na ključnom dijelu sustava i zamjena neće biti moguća do sljedećeg remonta za\n",
        "6 mjeseci. Međutim, **pad tlaka je kritičan parametar** jer utječe na rad pumpi, sigurnost i ekonomsku isplativost transporta fluida. Bez ovog podatka riskiramo ozbiljne probleme u radu postrojenja.\n",
        "\n",
        "Šef proizvodnje moli jedinicu za automatizaciju i procesnu inteligenciju da pokuša na neki način doznati podatke u narednih 6 mjeseci, odnosno **pomoću dostupnih podataka naprave model koji će zamijeniti pokvareni senzor**.\n",
        "\n",
        "Voditelj postrojenja u kvaru informirao je jedinicu da je uspio sakupio sve podatke koje je mogao od zadnjih godinu dana, a da su relevantni za problem te su dani u **tablici MUI_1.xslx**\n",
        "\n",
        "####*Sastanak završen 29.5.2018. u 9:45*\n",
        "\n",
        "---\n",
        "---\n",
        "---\n",
        "\n",
        "##Šef jedinice za automatizaciju i procesnu inteligenciju napravio je okvirnu proceduru u ovoj jupyter bilježnici. Tvoj je zadatak popratiti korake te razviti optimalan model koji će na osnovu ulaznih podataka predviđati izlaznu varijablu od interesa.\n",
        "##Ispred sebe imaš povijesne podatke, dok je izlazna varijabla nazvana **Pad tlaka**. Na listu 2 su podaci od narednih 6 mjeseci na kojima ćeš napraviti model.predict, te spremiti rezultate u varijablu **y_SM**. Koliko dobar rezultat imaš, nećeš znati dok šef jedinice ne javi (blind_test).\n",
        "\n",
        "---\n",
        "---\n",
        "---\n",
        "\n",
        "Dvije vrste komentara:\n",
        "\n",
        "\n",
        "```\n",
        "# Komentari koji vas navode na pravo rješenje\n",
        "''' Komentari vezani uz opcionalne korake '''\n",
        "```\n",
        "\n",
        "\n",
        "\n",
        "\n",
        "***Formalnosti***\n",
        "\n",
        "U zadatku se ocjenjuju svi koraci koje ovdje odradite. Postotak preciznosti blind_testa (kojega ćete saznati kasnije) donosi dodatne bodove. Bodovi se skaliraju prema najboljem studentu. Ti se bodovi dodaju na bodove seminarskih izlaganja iz čega slijedi krajnja ocjena na kolegiju.\n",
        "\n",
        "---\n",
        "---\n"
      ],
      "metadata": {
        "id": "zVuK2ulHILaK"
      }
    },
    {
      "cell_type": "markdown",
      "source": [
        "###Unos podataka\n",
        "\n"
      ],
      "metadata": {
        "id": "67v0-jtUISyL"
      }
    },
    {
      "cell_type": "code",
      "source": [
        "!wget https://raw.githubusercontent.com/Chavlek/MUI/main/MUI_1.xlsx"
      ],
      "metadata": {
        "id": "XZ9zetdutNzm"
      },
      "execution_count": null,
      "outputs": []
    },
    {
      "cell_type": "code",
      "source": [
        "# nadodaj što nedostaje da se pokrene ova čelija, odnosno da se učitaju podaci\n",
        "\n",
        "data = pd.read_excel('MUI_1.xlsx', sheet_name='Data')\n",
        "blind_data = pd.read_excel('MUI_1.xlsx', sheet_name='NoviSet')\n",
        "\n",
        "data.head(5) # provjera podataka u varijabli data"
      ],
      "metadata": {
        "id": "ehrkzr4-IQq7"
      },
      "execution_count": null,
      "outputs": []
    },
    {
      "cell_type": "markdown",
      "source": [
        "### Pregled podataka i odabir značajki\n",
        "\n",
        "Ovdje provjerite:\n",
        "\n",
        "1.   Ima li NaN vrijednosti\n",
        "2.   Provedite Pearsonovu korelaciju\n",
        "3.   Izradite Heat mapu korelacija\n",
        "4.   Odaberite ulazne značajke te odredite X i Y\n",
        "\n",
        "Nadopunite sljedeće čelije:"
      ],
      "metadata": {
        "id": "ev3Mf2NkZcqL"
      }
    },
    {
      "cell_type": "code",
      "source": [
        "# Provjera NaN u datasetu data\n",
        "#.isna()\n"
      ],
      "metadata": {
        "id": "NoEONHvybJiX"
      },
      "execution_count": null,
      "outputs": []
    },
    {
      "cell_type": "code",
      "source": [
        "# Pearsonova korelacija s izlaznom na cijelom datasetu data\n",
        "#.corr()\n"
      ],
      "metadata": {
        "id": "9dm39dwWbPDP"
      },
      "execution_count": null,
      "outputs": []
    },
    {
      "cell_type": "code",
      "source": [
        "#Heat mapa korelacija\n",
        "#matplotlib i seaborn"
      ],
      "metadata": {
        "id": "n7rYrM6sbuTz"
      },
      "execution_count": null,
      "outputs": []
    },
    {
      "cell_type": "code",
      "source": [
        "# definirajte X i Y # Budite sigurni da ste X i X_blind ujednačili (ako ćete izbacivati neke!)\n",
        "# X - data - blind data drop() za izbacivanje značajki (ako je potrebno!) i izlazne varijable\n",
        "# X_blind - blind data drop() za izbacivanje značajki (ako je potrebno!) i izlazne varijable\n",
        "# Y = Pad tlaka\n"
      ],
      "metadata": {
        "id": "8L7KFw_ZcaxG"
      },
      "execution_count": null,
      "outputs": []
    },
    {
      "cell_type": "markdown",
      "source": [
        "### Model development\n",
        "\n",
        "U ovom dijelu:\n",
        "1. Podijelite X i Y na trening i test skupove.\n",
        "2. Trenirajte model i provjerite ga na test skupu. (Modele koje možete koristiti su **LR - linear regression, DT - decision tree regressor, NN - Neural networks**)\n",
        "3. Ispišite MSE, R2 i Pearson između y_test i y_pred\n",
        "4. Procijenite modelom vrijednosti za kompletni X - MSE, R2 i Pearson\n",
        "5. Grafički prikažite realni Y vs Y_pred_svi\n",
        "6. Procijenite modelom vrijednosti za X_blind\n",
        "\n",
        "(Možete provjeriti sva 3 pa odabrati najbolji, a možete odabrati samo 1)\n"
      ],
      "metadata": {
        "id": "3jezaoDbc9vY"
      }
    },
    {
      "cell_type": "code",
      "source": [
        "''' Opcionalno '''\n",
        "\n",
        "# Skaliranje podataka - StandardScaler, MinMaxScaler"
      ],
      "metadata": {
        "id": "P3kZKSbEhpiV"
      },
      "execution_count": null,
      "outputs": []
    },
    {
      "cell_type": "code",
      "source": [
        "# podjela na trening i test\n",
        "\n",
        "# sklearn train test split"
      ],
      "metadata": {
        "id": "VH5Cwoykc9V4"
      },
      "execution_count": null,
      "outputs": []
    },
    {
      "cell_type": "code",
      "source": [
        "# Treniranje modela\n",
        "\n",
        "#sklearn linear regression, decision tree regressor, Keras - Sequential, Dense..\n"
      ],
      "metadata": {
        "id": "C4bQirneg7hx"
      },
      "execution_count": null,
      "outputs": []
    },
    {
      "cell_type": "code",
      "source": [
        "# Provjera na test setu\n",
        "\n",
        "# mean_squared_error, r2_score, pearson\n",
        "#LRmodel.predict(X_test), DTmodel.predict(X_test), ili/i NNmodel.predict(X_test)...\n",
        "# mse, r2, pearson na y_test vs y_predict"
      ],
      "metadata": {
        "id": "z84eMbvXhJCz"
      },
      "execution_count": null,
      "outputs": []
    },
    {
      "cell_type": "code",
      "source": [
        "# provjera na cjelokupnim podacima\n",
        "\n",
        "#LRmodel.predict(X), DTmodel.predict(X), ili/i NNmodel.predict(X)...\n",
        "# mse, r2, corrcoef na Y vs y_pred_sve"
      ],
      "metadata": {
        "id": "5DWrMcpzh0UA"
      },
      "execution_count": null,
      "outputs": []
    },
    {
      "cell_type": "code",
      "source": [
        "#grafički prikaz cjelokupnog seta\n",
        "\n",
        "'''Ako si skalirala/o podatke prije crtanja odskalirati u realne vrijednosti!'''\n",
        "\n",
        "#plt.plot(Y)\n",
        "#plt.plot(y_pred_sve)"
      ],
      "metadata": {
        "id": "ZH_lYoIhiSHh"
      },
      "execution_count": null,
      "outputs": []
    },
    {
      "cell_type": "markdown",
      "source": [
        "### Provjera na blind setu"
      ],
      "metadata": {
        "id": "j3RdzgOpkCQs"
      }
    },
    {
      "cell_type": "code",
      "source": [
        "# Procjena na blind testu\n",
        "\n",
        "''' Ako si skalirala/o podatke prilikom treninga, skaliraj i X_blind na isti način kao i X '''\n",
        "\n",
        "#LRmodel.predict(X_blind), DTmodel.predict(X_blind), ili/i NNmodel.predict(X_blind)...\n",
        "\n",
        "\n",
        "''' y_pred_blind odskaliraj na originalnu skalu ako si sklairala/o X podatke '''\n",
        "\n"
      ],
      "metadata": {
        "id": "s0sBkhIVitXF"
      },
      "execution_count": null,
      "outputs": []
    }
  ]
}